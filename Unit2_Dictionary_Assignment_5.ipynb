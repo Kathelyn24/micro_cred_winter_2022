{
  "nbformat": 4,
  "nbformat_minor": 0,
  "metadata": {
    "colab": {
      "name": "Unit2_Dictionary_Assignment_5.ipynb",
      "provenance": [],
      "collapsed_sections": [],
      "include_colab_link": true
    },
    "kernelspec": {
      "name": "python3",
      "display_name": "Python 3"
    }
  },
  "cells": [
    {
      "cell_type": "markdown",
      "metadata": {
        "id": "view-in-github",
        "colab_type": "text"
      },
      "source": [
        "<a href=\"https://colab.research.google.com/github/Kathelyn24/micro_cred_winter_2022/blob/main/Unit2_Dictionary_Assignment_5.ipynb\" target=\"_parent\"><img src=\"https://colab.research.google.com/assets/colab-badge.svg\" alt=\"Open In Colab\"/></a>"
      ]
    },
    {
      "cell_type": "markdown",
      "metadata": {
        "id": "Vgs8Kp4TidFQ"
      },
      "source": [
        "# Intrdouction to Python - Dictionary - Assignment #5 "
      ]
    },
    {
      "cell_type": "markdown",
      "metadata": {
        "id": "_Hq7Ny79iwgD"
      },
      "source": [
        "## 1.\tCreate a simple dictionary that stores 2 variables, for example: first and last name."
      ]
    },
    {
      "cell_type": "code",
      "metadata": {
        "id": "lotvpVpvlKsR"
      },
      "source": [
        "patient_1 = {\"first_name\" : \"Jaime\", \"last_name\": \"Miller\"}"
      ],
      "execution_count": null,
      "outputs": []
    },
    {
      "cell_type": "code",
      "metadata": {
        "id": "oNXY-CfrlLbE"
      },
      "source": [
        ""
      ],
      "execution_count": null,
      "outputs": []
    },
    {
      "cell_type": "markdown",
      "metadata": {
        "id": "io_27RSlizno"
      },
      "source": [
        "## 2.\tPrint out those variables stored in your previous dictionary. "
      ]
    },
    {
      "cell_type": "code",
      "metadata": {
        "id": "Dh1o5cAylSHB",
        "outputId": "02d84362-5da1-44ca-9aba-059628f4027f",
        "colab": {
          "base_uri": "https://localhost:8080/"
        }
      },
      "source": [
        "patient_1 = {\"first_name\" : \"Jaime\", \"last_name\": \"Miller\"}\n",
        "print(patient_1[\"first_name\"])\n",
        "print(patient_1[\"last_name\"])"
      ],
      "execution_count": 3,
      "outputs": [
        {
          "output_type": "stream",
          "name": "stdout",
          "text": [
            "Jaime\n",
            "Miller\n"
          ]
        }
      ]
    },
    {
      "cell_type": "code",
      "metadata": {
        "id": "vs8ppR-wlSKL"
      },
      "source": [
        ""
      ],
      "execution_count": null,
      "outputs": []
    },
    {
      "cell_type": "markdown",
      "metadata": {
        "id": "DAW8m8IQjRyR"
      },
      "source": [
        "## 3.\tAdd a message to those variables on printing: for example: “Hello, firstname lastname!”"
      ]
    },
    {
      "cell_type": "code",
      "metadata": {
        "id": "guULMEhrjYtT",
        "outputId": "6d8d70a1-7c80-4eaf-9f2b-f9cd9352ced3",
        "colab": {
          "base_uri": "https://localhost:8080/"
        }
      },
      "source": [
        "patient_1 = {\"first_name\" : \"Jaime\", \"last_name\": \"Miller\"}\n",
        "print(patient_1[\"first_name\"])\n",
        "print(patient_1[\"last_name\"])\n",
        "\n",
        "patient_name = patient_1['first_name']\n",
        "patient_last = patient_1['last_name']\n",
        "\n",
        "print(\"Hey there, \" + patient_name +\" \"+ patient_last)"
      ],
      "execution_count": 4,
      "outputs": [
        {
          "output_type": "stream",
          "name": "stdout",
          "text": [
            "Jaime\n",
            "Miller\n",
            "Hey there, Jaime Miller\n"
          ]
        }
      ]
    },
    {
      "cell_type": "code",
      "metadata": {
        "id": "cv946RaOjw-G"
      },
      "source": [
        ""
      ],
      "execution_count": null,
      "outputs": []
    },
    {
      "cell_type": "markdown",
      "metadata": {
        "id": "dpa_YOt4jXyo"
      },
      "source": [
        "## 4.\tCreate a dictionary that holds 2 key: value pairs:\n",
        "\n",
        "a.\tLook through your dictionary and print each pair,\n"
      ]
    },
    {
      "cell_type": "code",
      "metadata": {
        "id": "pltxfnh3iJLW",
        "outputId": "b59afbcb-8cfe-4bdc-b850-6d5654bc8e6e",
        "colab": {
          "base_uri": "https://localhost:8080/"
        }
      },
      "source": [
        "patient_1 = {\"first_name\" : \"Jaime\", \"last_name\": \"Miller\"}\n",
        "print(patient_1[\"first_name\"])\n",
        "print(patient_1[\"last_name\"])\n",
        "\n",
        "patient_name = patient_1['first_name']\n",
        "patient_last = patient_1['last_name']\n",
        "\n",
        "patient_1[\"MRN\"] = \"986532\"\n",
        "patient_1[\"Last_exam\"] = \"Radiology\"\n",
        "\n",
        "print(\"Hey there, \" + patient_name +\" \"+ patient_last)\n",
        "\n",
        "print(patient_1)"
      ],
      "execution_count": 5,
      "outputs": [
        {
          "output_type": "stream",
          "name": "stdout",
          "text": [
            "Jaime\n",
            "Miller\n",
            "Hey there, Jaime Miller\n",
            "{'first_name': 'Jaime', 'last_name': 'Miller', 'MRN': '986532', 'Last_exam': 'Radiology'}\n"
          ]
        }
      ]
    },
    {
      "cell_type": "code",
      "metadata": {
        "id": "PzH5Rcn-jwPL",
        "outputId": "3e0b8a0c-ed90-4d23-cc34-abf4054f6662",
        "colab": {
          "base_uri": "https://localhost:8080/"
        }
      },
      "source": [
        "patient_2 ={ \"name\": \"Anna\", \"last_name\":\" Zang\", \"mrn\":\"875421\", \"dob\": \"06231954\" }\n",
        "for key, value in patient_2.items():\n",
        "  print(\"\\nKey:\" + key)\n",
        "  print(\"\\nValue:\" + value)"
      ],
      "execution_count": 6,
      "outputs": [
        {
          "output_type": "stream",
          "name": "stdout",
          "text": [
            "\n",
            "Key:name\n",
            "\n",
            "Value:Anna\n",
            "\n",
            "Key:last_name\n",
            "\n",
            "Value: Zang\n",
            "\n",
            "Key:mrn\n",
            "\n",
            "Value:875421\n",
            "\n",
            "Key:dob\n",
            "\n",
            "Value:06231954\n"
          ]
        }
      ]
    },
    {
      "cell_type": "code",
      "metadata": {
        "id": "34IFFtK4jrg4"
      },
      "source": [
        ""
      ],
      "execution_count": null,
      "outputs": []
    },
    {
      "cell_type": "code",
      "metadata": {
        "id": "M17RfxQljvqb"
      },
      "source": [
        ""
      ],
      "execution_count": null,
      "outputs": []
    },
    {
      "cell_type": "code",
      "metadata": {
        "id": "4agTp_Cyju4-"
      },
      "source": [
        ""
      ],
      "execution_count": null,
      "outputs": []
    },
    {
      "cell_type": "code",
      "metadata": {
        "id": "jjh2GdktllZY"
      },
      "source": [
        ""
      ],
      "execution_count": null,
      "outputs": []
    },
    {
      "cell_type": "code",
      "metadata": {
        "id": "iHaRIrt8llcd"
      },
      "source": [
        ""
      ],
      "execution_count": null,
      "outputs": []
    }
  ]
}